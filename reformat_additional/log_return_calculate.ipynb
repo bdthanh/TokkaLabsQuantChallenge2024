{
 "cells": [
  {
   "cell_type": "markdown",
   "metadata": {},
   "source": [
    "## Pipeline to process additional data\n",
    "\n",
    "I downloaded additional data from Binance website for the missing period between Aug 2023 to end of Feb 2024. Therefore, I need to reformat the data to the same format with train.csv for convenience."
   ]
  },
  {
   "cell_type": "code",
   "execution_count": 10,
   "metadata": {},
   "outputs": [],
   "source": [
    "import os\n",
    "import zipfile\n",
    "import pandas as pd\n",
    "import numpy as np\n",
    "ADDITIONAL_FOLDER = r'C:\\Users\\e0817820\\Desktop\\tokka\\data\\additional_test'\n",
    "RAW_FOLDER = r'C:\\Users\\e0817820\\Desktop\\tokka\\data\\raw'\n",
    "TEST_CSV = r'C:\\Users\\e0817820\\Downloads\\test (1).csv'\n",
    "SOLUTION_CSV = r'C:\\Users\\e0817820\\Downloads\\solution.csv'"
   ]
  },
  {
   "cell_type": "code",
   "execution_count": 11,
   "metadata": {},
   "outputs": [],
   "source": [
    "list_cryptocurrencies = ['AVAX', 'ADA', 'SOL', 'BNB', 'TRX', 'DOGE', 'LINK', 'XRP', 'BTC', 'ETH']"
   ]
  },
  {
   "cell_type": "code",
   "execution_count": 12,
   "metadata": {},
   "outputs": [],
   "source": [
    "columns = ['open_time', 'close', 'symbol', 'log_return']"
   ]
  },
  {
   "cell_type": "code",
   "execution_count": 13,
   "metadata": {},
   "outputs": [
    {
     "name": "stdout",
     "output_type": "stream",
     "text": [
      "Index(['log_return'], dtype='object')\n",
      "Index(['id', 'timestamp', 'open', 'high', 'low', 'close', 'volume',\n",
      "       'quote_asset_volume', 'number_of_trades', 'taker_buy_volume',\n",
      "       'taker_sell_volume', 'symbol', 'log_return'],\n",
      "      dtype='object')\n"
     ]
    }
   ],
   "source": [
    "df = pd.read_csv(TEST_CSV)\n",
    "solution = pd.read_csv(SOLUTION_CSV).drop(columns=['id', 'Usage'])\n",
    "print(solution.columns)\n",
    "final_df = pd.concat([df, solution], axis=1)\n",
    "print(final_df.columns)"
   ]
  },
  {
   "cell_type": "code",
   "execution_count": null,
   "metadata": {},
   "outputs": [],
   "source": [
    "final_df.to_csv(os.path.join(RAW_FOLDER, 'final_test.csv'), index=False)"
   ]
  }
 ],
 "metadata": {
  "kernelspec": {
   "display_name": "tokka",
   "language": "python",
   "name": "python3"
  },
  "language_info": {
   "codemirror_mode": {
    "name": "ipython",
    "version": 3
   },
   "file_extension": ".py",
   "mimetype": "text/x-python",
   "name": "python",
   "nbconvert_exporter": "python",
   "pygments_lexer": "ipython3",
   "version": "3.11.7"
  }
 },
 "nbformat": 4,
 "nbformat_minor": 2
}

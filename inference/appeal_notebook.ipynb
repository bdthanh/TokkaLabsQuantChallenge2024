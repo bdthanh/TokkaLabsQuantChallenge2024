{
 "cells": [
  {
   "cell_type": "code",
   "execution_count": 1,
   "metadata": {},
   "outputs": [
    {
     "name": "stderr",
     "output_type": "stream",
     "text": [
      "C:\\Users\\e0817820\\AppData\\Local\\Temp\\ipykernel_21608\\547326673.py:2: DeprecationWarning: \n",
      "Pyarrow will become a required dependency of pandas in the next major release of pandas (pandas 3.0),\n",
      "(to allow more performant data types, such as the Arrow string type, and better interoperability with other libraries)\n",
      "but was not found to be installed on your system.\n",
      "If this would cause problems for you,\n",
      "please provide us feedback at https://github.com/pandas-dev/pandas/issues/54466\n",
      "        \n",
      "  import pandas as pd\n"
     ]
    }
   ],
   "source": [
    "import os\n",
    "import pandas as pd\n",
    "import numpy as np\n",
    "import pickle\n",
    "import gc\n",
    "\n",
    "#PASTE YOUR TEST PATH (test data of 10 crypto)\n",
    "TEST_CSV = r'C:\\Users\\e0817820\\Desktop\\tokka\\data\\raw\\test.csv' \n",
    "#PASTE YOUR SUBMISSION PATH (predicted log return)\n",
    "SUBMISSION_CSV = r'C:\\Users\\e0817820\\Desktop\\tokka\\data\\raw\\submission.csv'\n",
    "#PASTE YOUR SOLUTION PATH (true log return)\n",
    "SOLUTION_CSV = r'C:\\Users\\e0817820\\Desktop\\tokka\\data\\raw\\solution.csv'"
   ]
  },
  {
   "cell_type": "code",
   "execution_count": 2,
   "metadata": {},
   "outputs": [],
   "source": [
    "def correlation(a, b):    \n",
    "    a = np.ravel(a)\n",
    "    b = np.ravel(b)\n",
    "\n",
    "    len_data = len(a)\n",
    "    mean_a = np.mean(a)\n",
    "    mean_b = np.mean(b)\n",
    "    var_a = np.var(a, ddof=0)  \n",
    "    var_b = np.var(b, ddof=0)  \n",
    "    \n",
    "    cov = np.sum((a - mean_a) * (b - mean_b)) / len_data\n",
    "    corr = cov / np.sqrt(var_a * var_b)\n",
    "\n",
    "    return corr"
   ]
  },
  {
   "cell_type": "code",
   "execution_count": 3,
   "metadata": {},
   "outputs": [],
   "source": [
    "list_cryptocurrencies = ['AVAX', 'ADA', 'SOL', 'BNB', 'TRX', 'DOGE', 'LINK', 'XRP', 'BTC', 'ETH']\n",
    "test_df = pd.read_csv(TEST_CSV)\n",
    "solution_df = pd.read_csv(SOLUTION_CSV).drop(columns=['id', 'Usage'])\n",
    "test_solution_combined = pd.concat([test_df, solution_df], axis=1)\n",
    "output_df = pd.read_csv(SUBMISSION_CSV)\n",
    "test_output_combined = pd.concat([test_df, output_df], axis=1)"
   ]
  },
  {
   "cell_type": "code",
   "execution_count": 4,
   "metadata": {},
   "outputs": [
    {
     "name": "stdout",
     "output_type": "stream",
     "text": [
      "Corr score: 0.04705314764429671\n"
     ]
    }
   ],
   "source": [
    "corr_list = []\n",
    "for id, symbol in enumerate(list_cryptocurrencies):\n",
    "    pred = test_output_combined[test_output_combined['symbol'] == symbol][['log_return']]\n",
    "    real = test_solution_combined[test_solution_combined['symbol'] == symbol][['log_return']]\n",
    "    corr_list.append(correlation(pred, real))\n",
    "print(f'Corr score: {np.mean(corr_list)}')"
   ]
  }
 ],
 "metadata": {
  "kernelspec": {
   "display_name": "tokka",
   "language": "python",
   "name": "python3"
  },
  "language_info": {
   "codemirror_mode": {
    "name": "ipython",
    "version": 3
   },
   "file_extension": ".py",
   "mimetype": "text/x-python",
   "name": "python",
   "nbconvert_exporter": "python",
   "pygments_lexer": "ipython3",
   "version": "3.11.7"
  }
 },
 "nbformat": 4,
 "nbformat_minor": 2
}
